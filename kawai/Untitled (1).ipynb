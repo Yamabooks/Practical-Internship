{
 "cells": [
  {
   "cell_type": "code",
   "execution_count": 41,
   "id": "bafb198e-2dd8-456a-b3a1-0a6a22da4a08",
   "metadata": {},
   "outputs": [],
   "source": [
    "import requests\n",
    "import json\n",
    "import pyaudio\n",
    "import wave\n",
    "import io\n",
    "from time import sleep\n",
    "import subprocess\n",
    "import psutil\n",
    "import time"
   ]
  },
  {
   "cell_type": "code",
   "execution_count": 42,
   "id": "5b08cc29-2394-4473-8b19-b9ae295561cc",
   "metadata": {},
   "outputs": [],
   "source": [
    "class VoiceVoxClient:\n",
    "    def __init__(self, speaker_id: int = 3, voicevox_path: str = \"C:/Users/chihi/Desktop/VOICEVOX.lnk\"):\n",
    "        self.speaker_id = speaker_id\n",
    "        self.voicevox_path = voicevox_path\n",
    "        self.base_url = 'http://localhost:50021'\n",
    "        self.wav = None\n",
    "        \n",
    "        # VOICEVOXが実行中でない場合は起動\n",
    "        if not self.is_process_running('VOICEVOX.exe'):  # 実際のプロセス名に合わせて変更してください\n",
    "            self.start_voicevox()\n",
    "    \n",
    "    @staticmethod\n",
    "    def is_process_running(process_name: str) -> bool:\n",
    "        \"\"\"指定されたプロセス名が実行中かどうかを確認する。\"\"\"\n",
    "        for proc in psutil.process_iter(['pid', 'name']):\n",
    "            if proc.info['name'] == process_name:\n",
    "                return True\n",
    "        return False\n",
    "\n",
    "    def start_voicevox(self):\n",
    "        \"\"\"VOICEVOXアプリケーションを起動する。\"\"\"\n",
    "        subprocess.Popen(['start', self.voicevox_path], shell=True)\n",
    "    \n",
    "    def post_audio_query(self, text: str) -> dict:\n",
    "        \"\"\"テキストクエリをVOICEVOXに送信し、オーディオクエリのレスポンスを取得する。\"\"\"\n",
    "        params = {'text': text, 'speaker': self.speaker_id}\n",
    "        res = requests.post(f'{self.base_url}/audio_query', params=params)\n",
    "        res.raise_for_status()  # エラーレスポンスがあれば例外を発生させる\n",
    "        return res.json()\n",
    "\n",
    "    def post_synthesis(self, audio_query_response: dict) -> bytes:\n",
    "        \"\"\"オーディオクエリのレスポンスをVOICEVOXに送信し、オーディオデータを取得する。\"\"\"\n",
    "        params = {'speaker': self.speaker_id}\n",
    "        headers = {'content-type': 'application/json'}\n",
    "        audio_query_response_json = json.dumps(audio_query_response)\n",
    "        res = requests.post(\n",
    "            f'{self.base_url}/synthesis',\n",
    "            data=audio_query_response_json,\n",
    "            params=params,\n",
    "            headers=headers\n",
    "        )\n",
    "        res.raise_for_status()  # エラーレスポンスがあれば例外を発生させる\n",
    "        return res.content\n",
    "\n",
    "    def text_to_voice(self, text: str):\n",
    "        \"\"\"テキストを音声に変換する。\"\"\"\n",
    "        res = self.post_audio_query(text)\n",
    "        self.wav = self.post_synthesis(res)\n",
    "        #self.play_wav(wav)\n",
    "        return self.wav\n",
    "    \n",
    "    @staticmethod\n",
    "    def play_wav(wav_file: bytes):\n",
    "        \"\"\"WAVファイルデータをPyAudioで再生する。\"\"\"\n",
    "        wr: wave.Wave_read = wave.open(io.BytesIO(wav_file))\n",
    "        p = pyaudio.PyAudio()\n",
    "        stream = p.open(\n",
    "            format=p.get_format_from_width(wr.getsampwidth()),\n",
    "            channels=wr.getnchannels(),\n",
    "            rate=wr.getframerate(),\n",
    "            output=True\n",
    "        )\n",
    "        chunk = 1024\n",
    "        data = wr.readframes(chunk)\n",
    "        while data:\n",
    "            stream.write(data)\n",
    "            data = wr.readframes(chunk)\n",
    "        sleep(0.5)\n",
    "        stream.close()\n",
    "        p.terminate()"
   ]
  },
  {
   "cell_type": "code",
   "execution_count": 43,
   "id": "aa377b86-e1e1-49cc-bbba-ec580428f8b7",
   "metadata": {},
   "outputs": [],
   "source": [
    "client = VoiceVoxClient()"
   ]
  },
  {
   "cell_type": "code",
   "execution_count": 44,
   "id": "e127f300-7d60-4086-8f76-968e0e9a91fe",
   "metadata": {},
   "outputs": [],
   "source": [
    "text = \"ある日猫がネコバスに乗ろうとしたら運転手がすみません今日は犬が運転していますと言った猫は驚いてワンワンってそれ違うよと犬と仲良くバス旅行を楽しむことにしましたあとから馬もきて仲良く楽しんだそうですよよある日宇宙人が地球に来てスーパーでバナナを買おうとした店員が袋にお入れしますかと聞くと宇宙人は困った顔で袋じゃなくて宇宙船にお願いと言ってバナナをテレポートさせて帰っていったそう宇宙人は満足して帰った\""
   ]
  },
  {
   "cell_type": "code",
   "execution_count": 45,
   "id": "a74768c7-6689-4a74-98f6-7fb7d05a0ca3",
   "metadata": {},
   "outputs": [
    {
     "name": "stdout",
     "output_type": "stream",
     "text": [
      "文字数: 200\n",
      "処理時間: 11.955095699999902 秒\n"
     ]
    }
   ],
   "source": [
    "# 文字数の計測\n",
    "char_count = len(text)\n",
    "print(f\"文字数: {char_count}\")\n",
    "\n",
    "# 開始時間の計測\n",
    "start_time = time.perf_counter()\n",
    "wav = client.text_to_voice(text)\n",
    "\n",
    "# 終了時間の計測\n",
    "end_time = time.perf_counter()\n",
    "\n",
    "# 経過時間の計算\n",
    "elapsed_time = end_time - start_time\n",
    "print(f\"処理時間: {elapsed_time} 秒\")\n",
    "client.play_wav(wav)"
   ]
  },
  {
   "cell_type": "code",
   "execution_count": null,
   "id": "576d96e0-b18b-43ce-98dd-19fb5f2bda3c",
   "metadata": {},
   "outputs": [],
   "source": []
  }
 ],
 "metadata": {
  "kernelspec": {
   "display_name": "Python 3 (ipykernel)",
   "language": "python",
   "name": "python3"
  },
  "language_info": {
   "codemirror_mode": {
    "name": "ipython",
    "version": 3
   },
   "file_extension": ".py",
   "mimetype": "text/x-python",
   "name": "python",
   "nbconvert_exporter": "python",
   "pygments_lexer": "ipython3",
   "version": "3.9.19"
  }
 },
 "nbformat": 4,
 "nbformat_minor": 5
}
